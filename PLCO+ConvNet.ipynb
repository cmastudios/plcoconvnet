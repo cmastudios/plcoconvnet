{
 "cells": [
  {
   "cell_type": "code",
   "execution_count": 1,
   "metadata": {},
   "outputs": [
    {
     "name": "stdout",
     "output_type": "stream",
     "text": [
      "Populating the interactive namespace from numpy and matplotlib\n"
     ]
    }
   ],
   "source": [
    "%pylab inline\n",
    "import tensorflow as tf\n",
    "import skimage\n",
    "import logging\n",
    "import gc\n",
    "import os\n",
    "import dataset\n",
    "logging.basicConfig(level=logging.DEBUG)"
   ]
  },
  {
   "cell_type": "code",
   "execution_count": 2,
   "metadata": {
    "scrolled": true
   },
   "outputs": [
    {
     "name": "stderr",
     "output_type": "stream",
     "text": [
      "INFO:dataset:Loaded PLCO2 dataset with 9536 features.\n"
     ]
    }
   ],
   "source": [
    "# Load data\n",
    "data = dataset.Dataset.load('PLCO2')\n",
    "# train_data = dataset.Dataset.load('PLCO_train')\n",
    "# test_data = dataset.Dataset.load('PLCO_test')"
   ]
  },
  {
   "cell_type": "markdown",
   "metadata": {},
   "source": [
    "The following functions provide a utility wrapper around commonly used layers."
   ]
  },
  {
   "cell_type": "code",
   "execution_count": 3,
   "metadata": {
    "collapsed": true
   },
   "outputs": [],
   "source": [
    "def weight_variable(shape, name):\n",
    "    initial = tf.truncated_normal(shape, stddev=0.1)\n",
    "    return tf.Variable(initial, name=name)\n",
    "\n",
    "def bias_variable(shape, name):\n",
    "    initial = tf.constant(0.1, shape=shape)\n",
    "    return tf.Variable(initial, name=name)\n",
    "\n",
    "def conv2d(x, W):\n",
    "    return tf.nn.conv2d(x, W, strides=[1, 1, 1, 1], padding='SAME')\n",
    "\n",
    "def max_pool_2x2(x):\n",
    "    return tf.nn.max_pool(x, ksize=[1, 2, 2, 1],\n",
    "                        strides=[1, 2, 2, 1], padding='SAME')"
   ]
  },
  {
   "cell_type": "code",
   "execution_count": 4,
   "metadata": {
    "collapsed": true
   },
   "outputs": [],
   "source": [
    "# Input data from training.\n",
    "x = tf.placeholder(tf.float32, shape=[None, 256*256], name='data')\n",
    "y_ = tf.placeholder(tf.float32, shape=[None, 2], name='label')"
   ]
  },
  {
   "cell_type": "code",
   "execution_count": 5,
   "metadata": {},
   "outputs": [],
   "source": [
    "# Reshape as four-dimensional tensor\n",
    "with tf.name_scope('reshape_data'):\n",
    "    x_image = tf.reshape(x, [-1, 256, 256, 1])\n",
    "    tf.summary.image('example_images', x_image)"
   ]
  },
  {
   "cell_type": "code",
   "execution_count": 6,
   "metadata": {},
   "outputs": [
    {
     "data": {
      "text/plain": [
       "<tf.Tensor 'conv1/MaxPool:0' shape=(?, 128, 128, 32) dtype=float32>"
      ]
     },
     "execution_count": 6,
     "metadata": {},
     "output_type": "execute_result"
    }
   ],
   "source": [
    "# First convolutional-ReLU-pooling layer\n",
    "with tf.name_scope('conv1'):\n",
    "    W_conv1 = weight_variable([5, 5, 1, 32], 'W_conv1')\n",
    "    b_conv1 = bias_variable([32], 'b_conv1')\n",
    "    h_conv1 = tf.nn.relu(conv2d(x_image, W_conv1) + b_conv1)\n",
    "    h_pool1 = max_pool_2x2(h_conv1)\n",
    "h_pool1"
   ]
  },
  {
   "cell_type": "code",
   "execution_count": 7,
   "metadata": {},
   "outputs": [
    {
     "data": {
      "text/plain": [
       "<tf.Tensor 'conv2/MaxPool:0' shape=(?, 64, 64, 64) dtype=float32>"
      ]
     },
     "execution_count": 7,
     "metadata": {},
     "output_type": "execute_result"
    }
   ],
   "source": [
    "with tf.name_scope('conv2'):\n",
    "    W_conv2 = weight_variable([5, 5, 32, 64], 'W_conv2')\n",
    "    b_conv2 = bias_variable([64], 'b_conv2')\n",
    "    h_conv2 = tf.nn.relu(conv2d(h_pool1, W_conv2) + b_conv2)\n",
    "    h_pool2 = max_pool_2x2(h_conv2)\n",
    "h_pool2"
   ]
  },
  {
   "cell_type": "code",
   "execution_count": 8,
   "metadata": {},
   "outputs": [
    {
     "data": {
      "text/plain": [
       "<tf.Tensor 'SecondConvolutionLayer:0' shape=() dtype=string>"
      ]
     },
     "execution_count": 8,
     "metadata": {},
     "output_type": "execute_result"
    }
   ],
   "source": [
    "# Generate a visualization of the parameters learned from the second layer.\n",
    "V = tf.slice(h_pool2,(0,0,0,0),(1,-1,-1,-1)) #V[0,...]\n",
    "V = tf.reshape(V,(64,64,64)) # width: 64, height: 64, out_params: 64\n",
    "V = tf.reshape(V,(64,64,8,8)) # 64 parameters -> 8 rows x 8 cols\n",
    "V = tf.transpose(V,(2,0,3,1)) #cy,iy,cx,ix\n",
    "V = tf.reshape(V,(1,8*64,8*64,1))\n",
    "tf.summary.image('SecondConvolutionLayer', V)"
   ]
  },
  {
   "cell_type": "code",
   "execution_count": 9,
   "metadata": {},
   "outputs": [
    {
     "data": {
      "text/plain": [
       "<tf.Tensor 'conv3/MaxPool:0' shape=(?, 32, 32, 128) dtype=float32>"
      ]
     },
     "execution_count": 9,
     "metadata": {},
     "output_type": "execute_result"
    }
   ],
   "source": [
    "with tf.name_scope('conv3'):\n",
    "    W_conv3 = weight_variable([5, 5, 64, 128], 'W_conv3')\n",
    "    b_conv3 = bias_variable([128], 'b_conv3')\n",
    "    h_conv3 = tf.nn.relu(conv2d(h_pool2, W_conv3) + b_conv3)\n",
    "    h_pool3 = max_pool_2x2(h_conv3)\n",
    "h_pool3"
   ]
  },
  {
   "cell_type": "code",
   "execution_count": 10,
   "metadata": {},
   "outputs": [
    {
     "data": {
      "text/plain": [
       "<tf.Tensor 'conv4/MaxPool:0' shape=(?, 16, 16, 256) dtype=float32>"
      ]
     },
     "execution_count": 10,
     "metadata": {},
     "output_type": "execute_result"
    }
   ],
   "source": [
    "with tf.name_scope('conv4'):\n",
    "    W_conv4 = weight_variable([5, 5, 128, 256], 'W_conv4')\n",
    "    b_conv4 = bias_variable([256], 'b_conv4')\n",
    "    h_conv4 = tf.nn.relu(conv2d(h_pool3, W_conv4) + b_conv4)\n",
    "    h_pool4 = max_pool_2x2(h_conv4)\n",
    "h_pool4"
   ]
  },
  {
   "cell_type": "code",
   "execution_count": 11,
   "metadata": {},
   "outputs": [
    {
     "data": {
      "text/plain": [
       "<tf.Tensor 'conv5/MaxPool:0' shape=(?, 8, 8, 512) dtype=float32>"
      ]
     },
     "execution_count": 11,
     "metadata": {},
     "output_type": "execute_result"
    }
   ],
   "source": [
    "with tf.name_scope('conv5'):\n",
    "    W_conv5 = weight_variable([5, 5, 256, 512], 'W_conv5')\n",
    "    b_conv5 = bias_variable([512], 'b_conv5')\n",
    "    h_conv5 = tf.nn.relu(conv2d(h_pool4, W_conv5) + b_conv5)\n",
    "    h_pool5 = max_pool_2x2(h_conv5)\n",
    "h_pool5"
   ]
  },
  {
   "cell_type": "code",
   "execution_count": 12,
   "metadata": {},
   "outputs": [
    {
     "data": {
      "text/plain": [
       "<tf.Tensor 'fc1/Relu:0' shape=(?, 1024) dtype=float32>"
      ]
     },
     "execution_count": 12,
     "metadata": {},
     "output_type": "execute_result"
    }
   ],
   "source": [
    "# First fully-connected layer with ReLU.\n",
    "with tf.name_scope('fc1'):\n",
    "    W_fc1 = weight_variable([8 ** 2 * 512, 1024], 'W_fc1')\n",
    "    b_fc1 = bias_variable([1024], 'b_fc1')\n",
    "    h_pool5_flat = tf.reshape(h_pool5, [-1, 8 ** 2 * 512])\n",
    "    h_fc1 = tf.nn.relu(tf.matmul(h_pool5_flat, W_fc1) + b_fc1)\n",
    "h_fc1"
   ]
  },
  {
   "cell_type": "code",
   "execution_count": 13,
   "metadata": {},
   "outputs": [],
   "source": [
    "# Second fully-connected layer with dropout to reduce overfitting.\n",
    "with tf.name_scope('dropout'):\n",
    "    keep_prob = tf.placeholder(tf.float32)\n",
    "    h_fc1_drop = tf.nn.dropout(h_fc1, keep_prob)\n",
    "    W_fc2 = weight_variable([1024, 2], 'W_fc2')\n",
    "    b_fc2 = bias_variable([2], 'b_fc2')\n",
    "\n",
    "tf.summary.histogram('W_fc2_hist', W_fc2)\n",
    "tf.summary.histogram('b_fc2_hist', b_fc2)\n",
    "\n",
    "with tf.name_scope('softmax'):\n",
    "    y_conv = tf.matmul(h_fc1_drop, W_fc2) + b_fc2"
   ]
  },
  {
   "cell_type": "code",
   "execution_count": 14,
   "metadata": {},
   "outputs": [
    {
     "data": {
      "text/plain": [
       "<tf.Tensor 'cross_entropy_1:0' shape=() dtype=string>"
      ]
     },
     "execution_count": 14,
     "metadata": {},
     "output_type": "execute_result"
    }
   ],
   "source": [
    "# Logits cross-entropy used to improve numerical stability\n",
    "with tf.name_scope('cross_entropy'):\n",
    "    diff = tf.nn.softmax_cross_entropy_with_logits(logits=y_conv, labels=y_)\n",
    "    with tf.name_scope('total'):\n",
    "        cross_entropy = tf.reduce_mean(diff)\n",
    "tf.summary.scalar('cross_entropy', cross_entropy)"
   ]
  },
  {
   "cell_type": "code",
   "execution_count": 15,
   "metadata": {
    "collapsed": true
   },
   "outputs": [],
   "source": [
    "# Adam optimizer. Implementation of gradient descent.\n",
    "with tf.name_scope('train'):\n",
    "    train_step = tf.train.AdamOptimizer(1e-4).minimize(cross_entropy)"
   ]
  },
  {
   "cell_type": "code",
   "execution_count": 16,
   "metadata": {},
   "outputs": [
    {
     "data": {
      "text/plain": [
       "<tf.Tensor 'accuracy_1:0' shape=() dtype=string>"
      ]
     },
     "execution_count": 16,
     "metadata": {},
     "output_type": "execute_result"
    }
   ],
   "source": [
    "# Calculate accuracy of model by comparing output (y_conv) to ground truth (y_)\n",
    "with tf.name_scope('accuracy'):\n",
    "    with tf.name_scope('correct_prediction'):\n",
    "        correct_prediction = tf.equal(tf.argmax(y_conv, 1), tf.argmax(y_, 1))\n",
    "    with tf.name_scope('accuracy'):\n",
    "        accuracy = tf.reduce_mean(tf.cast(correct_prediction, tf.float32))\n",
    "tf.summary.scalar('accuracy', accuracy)"
   ]
  },
  {
   "cell_type": "code",
   "execution_count": 17,
   "metadata": {
    "collapsed": true
   },
   "outputs": [],
   "source": [
    "sess = tf.Session(config=tf.ConfigProto(log_device_placement=True))"
   ]
  },
  {
   "cell_type": "code",
   "execution_count": 18,
   "metadata": {
    "scrolled": true
   },
   "outputs": [],
   "source": [
    "merged = tf.summary.merge_all()\n",
    "\n",
    "train_writer = tf.summary.FileWriter('train', sess.graph)\n",
    "test_writer = tf.summary.FileWriter('test')\n",
    "\n",
    "tf.global_variables_initializer().run(session=sess)\n",
    "\n",
    "saver = tf.train.Saver()"
   ]
  },
  {
   "cell_type": "code",
   "execution_count": 19,
   "metadata": {
    "scrolled": false
   },
   "outputs": [
    {
     "name": "stderr",
     "output_type": "stream",
     "text": [
      "INFO:dataset:Using 6567 features for training and 2189 features for testing.\n"
     ]
    },
    {
     "name": "stdout",
     "output_type": "stream",
     "text": [
      "Iterations to train: 410\n",
      "Accuracy at step 0: 0.51\n",
      "Accuracy at step 10: 0.51\n",
      "Accuracy at step 20: 0.49\n",
      "Accuracy at step 30: 0.51\n",
      "Accuracy at step 40: 0.51\n",
      "Accuracy at step 50: 0.64\n",
      "Accuracy at step 60: 0.77\n",
      "Accuracy at step 70: 0.93\n",
      "Accuracy at step 80: 0.93\n",
      "Accuracy at step 90: 0.93\n",
      "Accuracy at step 100: 0.94\n",
      "Accuracy at step 110: 0.93\n",
      "Accuracy at step 120: 0.93\n",
      "Accuracy at step 130: 0.93\n",
      "Accuracy at step 140: 0.93\n",
      "Accuracy at step 150: 0.92\n",
      "Accuracy at step 160: 0.92\n",
      "Accuracy at step 170: 0.93\n",
      "Accuracy at step 180: 0.93\n",
      "Accuracy at step 190: 0.94\n",
      "Accuracy at step 200: 0.77\n",
      "Accuracy at step 210: 0.94\n",
      "Accuracy at step 220: 0.94\n",
      "Accuracy at step 230: 0.93\n",
      "Accuracy at step 240: 0.94\n",
      "Accuracy at step 250: 0.93\n",
      "Accuracy at step 260: 0.94\n",
      "Accuracy at step 270: 0.93\n",
      "Accuracy at step 280: 0.93\n",
      "Accuracy at step 290: 0.93\n",
      "Accuracy at step 300: 0.94\n",
      "Accuracy at step 310: 0.94\n",
      "Accuracy at step 320: 0.93\n",
      "Accuracy at step 330: 0.92\n",
      "Accuracy at step 340: 0.94\n",
      "Accuracy at step 350: 0.94\n",
      "Accuracy at step 360: 0.94\n",
      "Accuracy at step 370: 0.94\n",
      "Accuracy at step 380: 0.94\n",
      "Accuracy at step 390: 0.93\n",
      "Accuracy at step 400: 0.93\n"
     ]
    }
   ],
   "source": [
    "epochs = 1\n",
    "train_loader = data.batch()\n",
    "test_loader = train_loader\n",
    "iterations = train_loader.features_train.shape[0] // 16 * int(epochs)\n",
    "print('Iterations to train: {}'.format(iterations))\n",
    "\n",
    "for i in range(iterations):\n",
    "    batch = train_loader.next_batch(16)\n",
    "    if i % 10 == 0:\n",
    "        # Calculate the accuracy on the validation set.\n",
    "        feed_dict = {x: test_loader.test['images'][:100], y_: test_loader.test['labels'][:100], keep_prob: 1.0}\n",
    "        summary, acc = sess.run([merged, accuracy], feed_dict=feed_dict)\n",
    "        test_writer.add_summary(summary, i)\n",
    "        test_writer.flush()\n",
    "        print('Accuracy at step %s: %s' % (i, acc))\n",
    "    else:\n",
    "        # Train on the training set.\n",
    "        feed_dict = {x:batch[0], y_: batch[1], keep_prob: 0.5}\n",
    "        summary, _ = sess.run([merged, train_step], feed_dict=feed_dict)\n",
    "        train_writer.add_summary(summary, i)\n",
    "        train_writer.flush()\n",
    "    if i % 1000 == 0:\n",
    "        saver.save(sess, 'plco-model', global_step=i)\n"
   ]
  },
  {
   "cell_type": "code",
   "execution_count": 20,
   "metadata": {
    "collapsed": true
   },
   "outputs": [],
   "source": [
    "train_writer.close()\n",
    "test_writer.close()"
   ]
  },
  {
   "cell_type": "code",
   "execution_count": 21,
   "metadata": {},
   "outputs": [
    {
     "name": "stdout",
     "output_type": "stream",
     "text": [
      "Done\n"
     ]
    }
   ],
   "source": [
    "print(\"Done\")"
   ]
  },
  {
   "cell_type": "code",
   "execution_count": 22,
   "metadata": {},
   "outputs": [
    {
     "name": "stderr",
     "output_type": "stream",
     "text": [
      "INFO:dataset:Using 6567 features for training and 2189 features for testing.\n"
     ]
    }
   ],
   "source": [
    "batch = data.batch()"
   ]
  },
  {
   "cell_type": "code",
   "execution_count": 23,
   "metadata": {},
   "outputs": [
    {
     "name": "stdout",
     "output_type": "stream",
     "text": [
      "The slowest run took 19.01 times longer than the fastest. This could mean that an intermediate result is being cached.\n",
      "1 loop, best of 3: 12.2 ms per loop\n"
     ]
    }
   ],
   "source": [
    "%timeit sess.run(accuracy, feed_dict={x: batch.test['images'][:1], y_: batch.test['labels'][:1], keep_prob: 1.0})"
   ]
  },
  {
   "cell_type": "code",
   "execution_count": 24,
   "metadata": {
    "collapsed": true
   },
   "outputs": [],
   "source": [
    "prob = tf.nn.softmax(y_conv)"
   ]
  },
  {
   "cell_type": "code",
   "execution_count": 25,
   "metadata": {},
   "outputs": [
    {
     "data": {
      "text/plain": [
       "array([[ 0.,  1.]], dtype=float32)"
      ]
     },
     "execution_count": 25,
     "metadata": {},
     "output_type": "execute_result"
    }
   ],
   "source": [
    "prob.eval(feed_dict={x: batch.test['images'][:1], keep_prob: 1.0}, session=sess)"
   ]
  },
  {
   "cell_type": "code",
   "execution_count": 26,
   "metadata": {},
   "outputs": [
    {
     "name": "stdout",
     "output_type": "stream",
     "text": [
      "Healthy: 1085, cancer: 1104\n"
     ]
    }
   ],
   "source": [
    "healthy = [batch.test['images'][index] for index, lbl in enumerate(batch.test['labels']) if lbl[0] == 1.]\n",
    "cancer = [batch.test['images'][index] for index, lbl in enumerate(batch.test['labels']) if lbl[1] == 1.]\n",
    "print('Healthy: {}, cancer: {}'.format(len(healthy), len(cancer)))"
   ]
  },
  {
   "cell_type": "code",
   "execution_count": 27,
   "metadata": {
    "collapsed": true
   },
   "outputs": [],
   "source": [
    "random.shuffle(healthy)\n",
    "random.shuffle(cancer)"
   ]
  },
  {
   "cell_type": "code",
   "execution_count": 28,
   "metadata": {},
   "outputs": [],
   "source": [
    "healthy_res = []\n",
    "cancer_res = []\n",
    "\n",
    "# Run feed forward over the entire validation set in 100-image batches\n",
    "\n",
    "for i in range(0, len(healthy), 100):\n",
    "    batch = healthy[i:i+100]\n",
    "    rt = prob.eval(feed_dict={x: batch, keep_prob: 1.0}, session=sess)\n",
    "    for row in rt:\n",
    "        healthy_res.append(row)\n",
    "        \n",
    "for i in range(0, len(cancer), 100):\n",
    "    batch = cancer[i:i+100]\n",
    "    rt = prob.eval(feed_dict={x: batch, keep_prob: 1.0}, session=sess)\n",
    "    for row in rt:\n",
    "        cancer_res.append(row)"
   ]
  },
  {
   "cell_type": "code",
   "execution_count": 29,
   "metadata": {},
   "outputs": [],
   "source": [
    "import csv\n",
    "with open('evaluation.csv', 'w') as csvfile:\n",
    "    fieldnames = ['gt', 'pred']\n",
    "    writer = csv.DictWriter(csvfile, fieldnames=fieldnames)\n",
    "    \n",
    "    writer.writeheader()\n",
    "    for i in range(len(healthy)):\n",
    "        writer.writerow({'gt': 0, 'pred': 0 if healthy_res[i][0] > 0.5 else 1})\n",
    "    for i in range(len(cancer)):\n",
    "        writer.writerow({'gt': 1, 'pred': 0 if cancer_res[i][0] > 0.5 else 1})"
   ]
  },
  {
   "cell_type": "code",
   "execution_count": 30,
   "metadata": {},
   "outputs": [],
   "source": [
    "cancer_prob = cancer_res/sum(cancer_res, axis=1)[:,None]\n",
    "cancer_idx = sorted(range(len(cancer)), key=lambda idx: 1 if cancer_prob[idx][1] < 0.9 else cancer_prob[idx][1])\n",
    "\n",
    "healthy_prob = healthy_res/sum(healthy_res, axis=1)[:,None]\n",
    "healthy_idx = sorted(range(len(healthy)), key=lambda idx: 1 if healthy_prob[idx][0] < 0.9 else healthy_prob[idx][0])"
   ]
  },
  {
   "cell_type": "code",
   "execution_count": 31,
   "metadata": {},
   "outputs": [],
   "source": [
    "healthy_sample = list(map(lambda idx: healthy[idx], healthy_idx[:4]))\n",
    "cancer_sample = list(map(lambda idx: cancer[idx], cancer_idx[:4]))"
   ]
  },
  {
   "cell_type": "code",
   "execution_count": 32,
   "metadata": {},
   "outputs": [
    {
     "data": {
      "image/png": "[encoded data removed]",
      "text/plain": [
       "<matplotlib.figure.Figure at 0x7fe8a2e8d6d8>"
      ]
     },
     "metadata": {},
     "output_type": "display_data"
    }
   ],
   "source": [
    "fig = plt.figure()\n",
    "\n",
    "for idx, img in enumerate(healthy_sample):\n",
    "    ax = fig.add_subplot(2, 4, idx+1)\n",
    "    if idx == 0:\n",
    "        text(0, -70, 'Healthy')\n",
    "    f = plt.imshow(img.reshape((256, 256)), cmap=cm.gray)\n",
    "    f.axes.get_xaxis().set_visible(False)\n",
    "    f.axes.get_yaxis().set_visible(False)\n",
    "    pred = healthy_prob[healthy_idx[idx]]\n",
    "    ax.set_title(str(pred[0] * 100)[:5] + '%')\n",
    "    \n",
    "for idx, img in enumerate(cancer_sample):\n",
    "    ax = fig.add_subplot(2, 4, idx+5)\n",
    "    if idx == 0:\n",
    "        text(0, -70, 'Cancer')\n",
    "    f = plt.imshow(img.reshape((256, 256)), cmap=cm.gray)\n",
    "    f.axes.get_xaxis().set_visible(False)\n",
    "    f.axes.get_yaxis().set_visible(False)\n",
    "    pred = cancer_prob[cancer_idx[idx]]\n",
    "    ax.set_title(str(pred[1] * 100)[:5] + '%')"
   ]
  },
  {
   "cell_type": "code",
   "execution_count": null,
   "metadata": {
    "collapsed": true
   },
   "outputs": [],
   "source": []
  }
 ],
 "metadata": {
  "kernelspec": {
   "display_name": "Python 3",
   "language": "python",
   "name": "python3"
  },
  "language_info": {
   "codemirror_mode": {
    "name": "ipython",
    "version": 3
   },
   "file_extension": ".py",
   "mimetype": "text/x-python",
   "name": "python",
   "nbconvert_exporter": "python",
   "pygments_lexer": "ipython3",
   "version": "3.6.2"
  }
 },
 "nbformat": 4,
 "nbformat_minor": 1
}
